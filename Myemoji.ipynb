{
 "cells": [
  {
   "cell_type": "code",
   "execution_count": 3,
   "metadata": {},
   "outputs": [
    {
     "name": "stdout",
     "output_type": "stream",
     "text": [
      "😀\n",
      "😆\n",
      "🤣\n",
      "😀\n",
      "😀\n",
      "🙂\n",
      "😉\n",
      "😙\n",
      "😚\n"
     ]
    }
   ],
   "source": [
    "\n",
    "# grinning face \n",
    "print(\"\\U0001f600\") \n",
    "\n",
    "# grinning squinting face \n",
    "print(\"\\U0001F606\") \n",
    "\n",
    "# rolling on the floor laughing \n",
    "print(\"\\U0001F923\") \n",
    "\n",
    "print(\"\\U0001f600\")\n",
    "# grinning face \n",
    "print(\"\\N{grinning face}\") \n",
    "\n",
    "# slightly smiling face \n",
    "print(\"\\N{slightly smiling face}\") \n",
    "\n",
    "# winking face \n",
    "print(\"\\N{winking face}\") \n",
    "\n",
    "#kissing face\n",
    "print(\"\\U0001F619\")\n",
    "\n",
    "#kissing face\n",
    "print(\"\\U0001F61A\")\n"
   ]
  },
  {
   "cell_type": "code",
   "execution_count": null,
   "metadata": {
    "collapsed": true
   },
   "outputs": [],
   "source": []
  }
 ],
 "metadata": {
  "kernelspec": {
   "display_name": "Python 3",
   "language": "python",
   "name": "python3"
  },
  "language_info": {
   "codemirror_mode": {
    "name": "ipython",
    "version": 3
   },
   "file_extension": ".py",
   "mimetype": "text/x-python",
   "name": "python",
   "nbconvert_exporter": "python",
   "pygments_lexer": "ipython3",
   "version": "3.6.8"
  }
 },
 "nbformat": 4,
 "nbformat_minor": 2
}
